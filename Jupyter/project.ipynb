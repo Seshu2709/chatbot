{
 "cells": [
  {
   "cell_type": "code",
   "execution_count": 1,
   "id": "b743a882-a4b1-45f5-ba0f-376f7ff5670a",
   "metadata": {},
   "outputs": [
    {
     "name": "stdin",
     "output_type": "stream",
     "text": [
      "What is your name?   seshu\n",
      "Do you have a nickname seshu?  kutty\n",
      "What is your nickname?  kutty\n"
     ]
    },
    {
     "name": "stdout",
     "output_type": "stream",
     "text": [
      "Nice to meet you kutty!\n",
      "How are you feeling today kutty?  \n"
     ]
    },
    {
     "name": "stdin",
     "output_type": "stream",
     "text": [
      " not bad\n"
     ]
    },
    {
     "name": "stdout",
     "output_type": "stream",
     "text": [
      "Glad you are doing well.\n",
      "What do you like video games?\n"
     ]
    },
    {
     "name": "stdin",
     "output_type": "stream",
     "text": [
      " yes\n"
     ]
    },
    {
     "name": "stdout",
     "output_type": "stream",
     "text": [
      "You think very highly of video games. Quite biased.\n",
      "What do you think about Dance?\n"
     ]
    },
    {
     "name": "stdin",
     "output_type": "stream",
     "text": [
      " yes\n"
     ]
    },
    {
     "name": "stdout",
     "output_type": "stream",
     "text": [
      "You think very highly of Dance. Quite biased.\n",
      "I would like your opinion on football?\n"
     ]
    },
    {
     "name": "stdin",
     "output_type": "stream",
     "text": [
      " to get score\n"
     ]
    },
    {
     "name": "stdout",
     "output_type": "stream",
     "text": [
      "You think very highly of football. Quite biased.\n",
      "What is your hobbies coding?\n"
     ]
    },
    {
     "name": "stdin",
     "output_type": "stream",
     "text": [
      " singing\n"
     ]
    },
    {
     "name": "stdout",
     "output_type": "stream",
     "text": [
      "You think very highly of coding. Quite biased.\n",
      "Good bye kutty!\n"
     ]
    }
   ],
   "source": [
    "import random\n",
    "\n",
    "# Name and nickname\n",
    "name = input(\"What is your name?  \")\n",
    "nicknameQ = input(f\"Do you have a nickname {name}? \")\n",
    "\n",
    "if \"y\" in nicknameQ.lower():\n",
    "    nickname = input(\"What is your nickname? \")\n",
    "    print(f\"Nice to meet you {nickname}!\")\n",
    "elif \"n\" in nicknameQ.lower():\n",
    "    nickname = name + name[-1] + \"y\"\n",
    "    print(f\"I will call you {nickname}\")\n",
    "\n",
    "# Greeting selection\n",
    "greetings = [\n",
    "    f\"How are you feeling today {nickname}?  \",\n",
    "    f\"Howdy {nickname}! How you doin'?  \",\n",
    "    f\"What's up {nickname}?  \",\n",
    "    f\"How are things going {nickname}?  \"\n",
    "]\n",
    "\n",
    "print(random.choice(greetings))\n",
    "\n",
    "greetingA = input()\n",
    "blob = (greetingA)\n",
    "\n",
    "if blob:\n",
    "    print(\"Glad you are doing well.\")\n",
    "else:\n",
    "    print(\"Sorry to hear that.\")\n",
    "\n",
    "# Opinions on topics\n",
    "topics = [\n",
    "    \"football\",\n",
    "    \"Dance\",\n",
    "    \"coding\",\n",
    "    \"video games\"\n",
    "]\n",
    "\n",
    "questions = [\n",
    "    \"What is your hobbies \",\n",
    "    \"What do you think about \",\n",
    "    \"What do you like \",\n",
    "    \"I would like your opinion on \"\n",
    "]\n",
    "\n",
    "for i in range(0, random.randint(3, 4)):\n",
    "    q = random.choice(questions)\n",
    "    t = random.choice(topics)\n",
    "\n",
    "    questions.remove(q)\n",
    "    topics.remove(t)\n",
    "\n",
    "    question = q + t + \"?\"\n",
    "    print(question)\n",
    "\n",
    "    topicA = input()\n",
    "    blob = (topicA)\n",
    "\n",
    "    if blob:\n",
    "        print(f\"You think very highly of {t}. Quite biased.\")\n",
    "    elif blob:\n",
    "        print(f\"It's clear that you do like {t}.\")\n",
    "    elif blob:\n",
    "        print(f\"Whoa! You hate {t}.\")\n",
    "    elif blob:\n",
    "        print(f\"You don't like {t}. \")\n",
    "    else:\n",
    "        print(f\"Quite neutral towrads {t}.\")\n",
    "\n",
    "# Random bye\n",
    "byes = [\n",
    "    f\"Good bye {nickname}!\",\n",
    "    f\"Alright {nickname}, got a bounce. Peace out.\",\n",
    "    f\"{nickname}. See you later\",\n",
    "    f\"See you later {nickname}!\",\n",
    "]\n",
    "\n",
    "print(random.choice(byes))"
   ]
  },
  {
   "cell_type": "code",
   "execution_count": null,
   "id": "2f26e879-4029-429b-8015-bc1b1fecaf23",
   "metadata": {},
   "outputs": [],
   "source": []
  }
 ],
 "metadata": {
  "kernelspec": {
   "display_name": "Python 3 (ipykernel)",
   "language": "python",
   "name": "python3"
  },
  "language_info": {
   "codemirror_mode": {
    "name": "ipython",
    "version": 3
   },
   "file_extension": ".py",
   "mimetype": "text/x-python",
   "name": "python",
   "nbconvert_exporter": "python",
   "pygments_lexer": "ipython3",
   "version": "3.12.4"
  }
 },
 "nbformat": 4,
 "nbformat_minor": 5
}
